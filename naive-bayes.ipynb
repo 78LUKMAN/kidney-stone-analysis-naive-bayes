{
 "cells": [
  {
   "cell_type": "markdown",
   "metadata": {},
   "source": [
    "**LUKMANUL HAKIM**\n",
    "**A11.2022.14197**\n",
    "**DATA MINING**"
   ]
  },
  {
   "cell_type": "markdown",
   "metadata": {},
   "source": [
    "**IMPORT LIBRARY**"
   ]
  },
  {
   "cell_type": "code",
   "execution_count": 292,
   "metadata": {},
   "outputs": [],
   "source": [
    "# Import library numpy untuk operasi numerik dan array multidimensi\n",
    "import numpy as np\n",
    "\n",
    "# Import library matplotlib.pyplot untuk membuat plot dan visualisasi data\n",
    "import matplotlib.pyplot as plt\n",
    "\n",
    "# Import library pandas untuk manipulasi dan analisis data\n",
    "import pandas as pd\n",
    "\n",
    "# Import library sklearn untuk machine learning\n",
    "from sklearn.model_selection import train_test_split\n"
   ]
  },
  {
   "cell_type": "markdown",
   "metadata": {},
   "source": [
    "**MEMBACA DATASET**"
   ]
  },
  {
   "cell_type": "code",
   "execution_count": 293,
   "metadata": {},
   "outputs": [],
   "source": [
    "data = pd.read_csv(\"dataset/kindey_stone_urine_analysis_processed.csv\")"
   ]
  },
  {
   "cell_type": "markdown",
   "metadata": {},
   "source": [
    "**SELEKSI ATRIBUT**"
   ]
  },
  {
   "cell_type": "code",
   "execution_count": 294,
   "metadata": {},
   "outputs": [],
   "source": [
    "X = data.iloc[:, [0, 5]].values  # X adalah gravity and calc\n",
    "y = data.iloc[:, -1].values  # y adalah purchased (label)"
   ]
  },
  {
   "cell_type": "code",
   "execution_count": 295,
   "metadata": {},
   "outputs": [
    {
     "name": "stdout",
     "output_type": "stream",
     "text": [
      "[[ 1.021  2.45 ]\n",
      " [ 1.017  4.49 ]\n",
      " [ 1.008  2.36 ]\n",
      " [ 1.011  2.15 ]\n",
      " [ 1.005  1.16 ]\n",
      " [ 1.02   3.34 ]\n",
      " [ 1.012  1.4  ]\n",
      " [ 1.029  8.48 ]\n",
      " [ 1.015  1.16 ]\n",
      " [ 1.021  2.21 ]\n",
      " [ 1.011  1.93 ]\n",
      " [ 1.025  1.27 ]\n",
      " [ 1.006  1.03 ]\n",
      " [ 1.007  1.47 ]\n",
      " [ 1.011  1.53 ]\n",
      " [ 1.018  5.09 ]\n",
      " [ 1.007  1.05 ]\n",
      " [ 1.025  2.03 ]\n",
      " [ 1.008  7.68 ]\n",
      " [ 1.014  1.45 ]\n",
      " [ 1.024  5.16 ]\n",
      " [ 1.019  0.81 ]\n",
      " [ 1.014  1.32 ]\n",
      " [ 1.02   1.55 ]\n",
      " [ 1.023  1.52 ]\n",
      " [ 1.017  0.77 ]\n",
      " [ 1.017  2.17 ]\n",
      " [ 1.01   0.17 ]\n",
      " [ 1.008  0.83 ]\n",
      " [ 1.02   3.04 ]\n",
      " [ 1.017  1.06 ]\n",
      " [ 1.019  3.93 ]\n",
      " [ 1.017  5.38 ]\n",
      " [ 1.008  3.53 ]\n",
      " [ 1.023  4.54 ]\n",
      " [ 1.02   3.98 ]\n",
      " [ 1.008  1.02 ]\n",
      " [ 1.02   3.46 ]\n",
      " [ 1.009  1.19 ]\n",
      " [ 1.018  5.64 ]\n",
      " [ 1.021  2.66 ]\n",
      " [ 1.009  1.22 ]\n",
      " [ 1.015  2.64 ]\n",
      " [ 1.01   2.31 ]\n",
      " [ 1.02   4.49 ]\n",
      " [ 1.021  6.96 ]\n",
      " [ 1.024 13.   ]\n",
      " [ 1.024  5.54 ]\n",
      " [ 1.021  6.19 ]\n",
      " [ 1.024  7.31 ]\n",
      " [ 1.026 14.34 ]\n",
      " [ 1.013  4.74 ]\n",
      " [ 1.01   2.5  ]\n",
      " [ 1.011  1.27 ]\n",
      " [ 1.022  4.18 ]\n",
      " [ 1.011  3.1  ]\n",
      " [ 1.031  3.01 ]\n",
      " [ 1.02   6.81 ]\n",
      " [ 1.04   8.28 ]\n",
      " [ 1.021  2.33 ]\n",
      " [ 1.025  7.18 ]\n",
      " [ 1.026  5.67 ]\n",
      " [ 1.034 12.68 ]\n",
      " [ 1.033  8.94 ]\n",
      " [ 1.015  3.16 ]\n",
      " [ 1.013  3.3  ]\n",
      " [ 1.014  6.99 ]\n",
      " [ 1.012  0.65 ]\n",
      " [ 1.025  4.18 ]\n",
      " [ 1.026  4.45 ]\n",
      " [ 1.028  0.27 ]\n",
      " [ 1.027  7.64 ]\n",
      " [ 1.018  6.63 ]\n",
      " [ 1.022  8.53 ]\n",
      " [ 1.025  9.04 ]\n",
      " [ 1.017  0.58 ]\n",
      " [ 1.024  7.82 ]\n",
      " [ 1.016 12.2  ]\n",
      " [ 1.015  9.39 ]]\n"
     ]
    }
   ],
   "source": [
    "print(X)"
   ]
  },
  {
   "cell_type": "code",
   "execution_count": 296,
   "metadata": {},
   "outputs": [
    {
     "name": "stdout",
     "output_type": "stream",
     "text": [
      "[0 0 0 0 0 0 0 0 0 0 0 0 0 0 0 0 0 0 0 0 0 0 0 0 0 0 0 0 0 0 0 0 0 0 0 0 0\n",
      " 0 0 0 0 0 0 0 0 1 1 1 1 1 1 1 1 1 1 1 1 1 1 1 1 1 1 1 1 1 1 1 1 1 1 1 1 1\n",
      " 1 1 1 1 1]\n"
     ]
    }
   ],
   "source": [
    "print(y) # label"
   ]
  },
  {
   "cell_type": "code",
   "execution_count": 297,
   "metadata": {},
   "outputs": [],
   "source": [
    "# Fungsi train_test_split digunakan untuk memisahkan dataset menjadi dua bagian:\n",
    "#   - X_train dan y_train: digunakan untuk pelatihan model\n",
    "#   - X_test dan y_test: digunakan untuk pengujian model\n",
    "# test_size = 0.25 berarti 25% dari dataset akan digunakan sebagai data pengujian\n",
    "# random_state = 0 digunakan untuk memastikan hasil pemisahan yang sama setiap kali kode dijalankan\n",
    "X_train, X_test, y_train, y_test = train_test_split(X, y, test_size = 0.25, random_state = 0)"
   ]
  },
  {
   "cell_type": "code",
   "execution_count": 298,
   "metadata": {},
   "outputs": [
    {
     "name": "stdout",
     "output_type": "stream",
     "text": [
      "[[ 1.015  2.64 ]\n",
      " [ 1.009  1.19 ]\n",
      " [ 1.009  1.22 ]\n",
      " [ 1.015  9.39 ]\n",
      " [ 1.022  4.18 ]\n",
      " [ 1.025  2.03 ]\n",
      " [ 1.021  2.33 ]\n",
      " [ 1.026  5.67 ]\n",
      " [ 1.012  1.4  ]\n",
      " [ 1.011  3.1  ]\n",
      " [ 1.018  6.63 ]\n",
      " [ 1.005  1.16 ]\n",
      " [ 1.008  3.53 ]\n",
      " [ 1.01   2.5  ]\n",
      " [ 1.008  0.83 ]\n",
      " [ 1.025  1.27 ]\n",
      " [ 1.026 14.34 ]\n",
      " [ 1.02   1.55 ]\n",
      " [ 1.011  1.93 ]\n",
      " [ 1.019  3.93 ]\n",
      " [ 1.01   2.31 ]\n",
      " [ 1.025  7.18 ]\n",
      " [ 1.017  4.49 ]\n",
      " [ 1.017  5.38 ]\n",
      " [ 1.014  6.99 ]\n",
      " [ 1.011  1.53 ]\n",
      " [ 1.011  1.27 ]\n",
      " [ 1.014  1.45 ]\n",
      " [ 1.02   3.04 ]\n",
      " [ 1.023  1.52 ]\n",
      " [ 1.02   3.98 ]\n",
      " [ 1.008  7.68 ]\n",
      " [ 1.021  2.45 ]\n",
      " [ 1.016 12.2  ]\n",
      " [ 1.018  5.09 ]\n",
      " [ 1.02   3.34 ]\n",
      " [ 1.025  4.18 ]\n",
      " [ 1.007  1.05 ]\n",
      " [ 1.013  4.74 ]\n",
      " [ 1.024  5.16 ]\n",
      " [ 1.022  8.53 ]\n",
      " [ 1.015  1.16 ]\n",
      " [ 1.007  1.47 ]\n",
      " [ 1.017  0.77 ]\n",
      " [ 1.02   3.46 ]\n",
      " [ 1.024 13.   ]\n",
      " [ 1.018  5.64 ]\n",
      " [ 1.013  3.3  ]\n",
      " [ 1.04   8.28 ]\n",
      " [ 1.006  1.03 ]\n",
      " [ 1.028  0.27 ]\n",
      " [ 1.008  1.02 ]\n",
      " [ 1.019  0.81 ]\n",
      " [ 1.021  2.21 ]\n",
      " [ 1.017  0.58 ]\n",
      " [ 1.012  0.65 ]\n",
      " [ 1.015  3.16 ]\n",
      " [ 1.024  5.54 ]\n",
      " [ 1.02   4.49 ]]\n",
      "Ada 59 data\n"
     ]
    }
   ],
   "source": [
    "print(X_train)\n",
    "print(f\"Ada {len(X_train)} data\")"
   ]
  },
  {
   "cell_type": "code",
   "execution_count": 299,
   "metadata": {},
   "outputs": [
    {
     "name": "stdout",
     "output_type": "stream",
     "text": [
      "[[ 1.024  7.31 ]\n",
      " [ 1.01   0.17 ]\n",
      " [ 1.017  1.06 ]\n",
      " [ 1.033  8.94 ]\n",
      " [ 1.021  6.96 ]\n",
      " [ 1.026  4.45 ]\n",
      " [ 1.025  9.04 ]\n",
      " [ 1.024  7.82 ]\n",
      " [ 1.021  6.19 ]\n",
      " [ 1.02   6.81 ]\n",
      " [ 1.021  2.66 ]\n",
      " [ 1.034 12.68 ]\n",
      " [ 1.008  2.36 ]\n",
      " [ 1.027  7.64 ]\n",
      " [ 1.031  3.01 ]\n",
      " [ 1.023  4.54 ]\n",
      " [ 1.011  2.15 ]\n",
      " [ 1.014  1.32 ]\n",
      " [ 1.029  8.48 ]\n",
      " [ 1.017  2.17 ]]\n",
      "Ada 20 data\n"
     ]
    }
   ],
   "source": [
    "print(X_test)\n",
    "print(f\"Ada {len(X_test)} data\")"
   ]
  },
  {
   "cell_type": "code",
   "execution_count": 300,
   "metadata": {},
   "outputs": [
    {
     "name": "stdout",
     "output_type": "stream",
     "text": [
      "[0 0 0 1 1 0 1 1 0 1 1 0 0 1 0 0 1 0 0 0 0 1 0 0 1 0 1 0 0 0 0 0 0 1 0 0 1\n",
      " 0 1 0 1 0 0 0 0 1 0 1 1 0 1 0 0 0 1 1 1 1 0]\n",
      "Ada 59 data\n"
     ]
    }
   ],
   "source": [
    "print(y_train)\n",
    "print(f\"Ada {len(y_train)} data\")"
   ]
  },
  {
   "cell_type": "code",
   "execution_count": 301,
   "metadata": {},
   "outputs": [
    {
     "name": "stdout",
     "output_type": "stream",
     "text": [
      "[1 0 0 1 1 1 1 1 1 1 0 1 0 1 1 0 0 0 0 0]\n",
      "Ada 20 data\n"
     ]
    }
   ],
   "source": [
    "print(y_test)\n",
    "print(f\"Ada {len(y_test)} data\")"
   ]
  },
  {
   "cell_type": "markdown",
   "metadata": {},
   "source": [
    "**STANDAR SCALER**"
   ]
  },
  {
   "cell_type": "code",
   "execution_count": 302,
   "metadata": {},
   "outputs": [],
   "source": [
    "# Import class StandardScaler dari library scikit-learn untuk melakukan normalisasi data\n",
    "# Normalisasi data diperlukan agar model machine learning dapat bekerja dengan baik\n",
    "# StandardScaler akan mengubah data sehingga memiliki mean 0 dan standar deviasi 1\n",
    "# Hal ini akan membantu mengurangi efek skala yang berbeda-beda pada fitur-fitur data\n",
    "from sklearn.preprocessing import StandardScaler\n",
    "\n",
    "# Buat instance dari class StandardScaler untuk melakukan normalisasi data\n",
    "sc = StandardScaler()"
   ]
  },
  {
   "cell_type": "code",
   "execution_count": 303,
   "metadata": {},
   "outputs": [],
   "source": [
    "X_train = sc.fit_transform(X_train)\n",
    "X_test = sc.transform(X_test)"
   ]
  },
  {
   "cell_type": "code",
   "execution_count": 304,
   "metadata": {},
   "outputs": [
    {
     "name": "stdout",
     "output_type": "stream",
     "text": [
      "[[-0.27617103 -0.35444261]\n",
      " [-1.16493962 -0.81766542]\n",
      " [-1.16493962 -0.8080815 ]\n",
      " [-0.27617103  1.80193944]\n",
      " [ 0.76072566  0.13753196]\n",
      " [ 1.20510996 -0.54931565]\n",
      " [ 0.61259756 -0.45347645]\n",
      " [ 1.35323805  0.61353333]\n",
      " [-0.72055533 -0.75057798]\n",
      " [-0.86868343 -0.20748917]\n",
      " [ 0.16821326  0.92021878]\n",
      " [-1.75745202 -0.82724934]\n",
      " [-1.31306772 -0.07011964]\n",
      " [-1.01681152 -0.39916757]\n",
      " [-1.31306772 -0.93267246]\n",
      " [ 1.20510996 -0.7921083 ]\n",
      " [ 1.35323805  3.38328628]\n",
      " [ 0.46446946 -0.70265838]\n",
      " [-0.86868343 -0.58126205]\n",
      " [ 0.31634136  0.05766596]\n",
      " [-1.01681152 -0.45986573]\n",
      " [ 1.20510996  1.09592398]\n",
      " [ 0.02008517  0.2365658 ]\n",
      " [ 0.02008517  0.52088877]\n",
      " [-0.42429913  1.03522582]\n",
      " [-0.86868343 -0.70904766]\n",
      " [-0.86868343 -0.7921083 ]\n",
      " [-0.42429913 -0.73460478]\n",
      " [ 0.46446946 -0.22665701]\n",
      " [ 0.90885376 -0.7122423 ]\n",
      " [ 0.46446946  0.07363916]\n",
      " [-1.31306772  1.25565599]\n",
      " [ 0.61259756 -0.41514077]\n",
      " [-0.12804293  2.6996333 ]\n",
      " [ 0.16821326  0.42824421]\n",
      " [ 0.46446946 -0.1308178 ]\n",
      " [ 1.20510996  0.13753196]\n",
      " [-1.46119582 -0.86239038]\n",
      " [-0.57242723  0.31643181]\n",
      " [ 1.05698186  0.45060669]\n",
      " [ 0.76072566  1.52720039]\n",
      " [-0.27617103 -0.82724934]\n",
      " [-1.46119582 -0.7282155 ]\n",
      " [ 0.02008517 -0.9518403 ]\n",
      " [ 0.46446946 -0.09248212]\n",
      " [ 1.05698186  2.95520451]\n",
      " [ 0.16821326  0.60394941]\n",
      " [-0.57242723 -0.14359636]\n",
      " [ 3.42703144  1.44733439]\n",
      " [-1.60932392 -0.86877966]\n",
      " [ 1.64949425 -1.11157231]\n",
      " [-1.31306772 -0.8719743 ]\n",
      " [ 0.31634136 -0.93906174]\n",
      " [ 0.61259756 -0.49181213]\n",
      " [ 0.02008517 -1.01253846]\n",
      " [-0.72055533 -0.99017598]\n",
      " [-0.27617103 -0.18832132]\n",
      " [ 1.05698186  0.57200301]\n",
      " [ 0.46446946  0.2365658 ]]\n"
     ]
    }
   ],
   "source": [
    "print(X_train)"
   ]
  },
  {
   "cell_type": "code",
   "execution_count": 305,
   "metadata": {},
   "outputs": [
    {
     "name": "stdout",
     "output_type": "stream",
     "text": [
      "[[ 1.05698186  1.13745431]\n",
      " [-1.01681152 -1.14351871]\n",
      " [ 0.02008517 -0.85919574]\n",
      " [ 2.39013474  1.65818064]\n",
      " [ 0.61259756  1.0256419 ]\n",
      " [ 1.35323805  0.22378724]\n",
      " [ 1.20510996  1.69012704]\n",
      " [ 1.05698186  1.30038095]\n",
      " [ 0.61259756  0.77965462]\n",
      " [ 0.46446946  0.9777223 ]\n",
      " [ 0.61259756 -0.34805333]\n",
      " [ 2.53826284  2.85297602]\n",
      " [-1.31306772 -0.44389253]\n",
      " [ 1.50136615  1.24287743]\n",
      " [ 2.09387855 -0.23624093]\n",
      " [ 0.90885376  0.25253901]\n",
      " [-0.86868343 -0.51097997]\n",
      " [-0.42429913 -0.7761351 ]\n",
      " [ 1.79762235  1.51122719]\n",
      " [ 0.02008517 -0.50459069]]\n"
     ]
    }
   ],
   "source": [
    "print(X_test)"
   ]
  },
  {
   "cell_type": "markdown",
   "metadata": {},
   "source": [
    "**KLASIFIKASI DATA**"
   ]
  },
  {
   "cell_type": "code",
   "execution_count": 306,
   "metadata": {},
   "outputs": [
    {
     "data": {
      "text/html": [
       "<style>#sk-container-id-14 {\n",
       "  /* Definition of color scheme common for light and dark mode */\n",
       "  --sklearn-color-text: black;\n",
       "  --sklearn-color-line: gray;\n",
       "  /* Definition of color scheme for unfitted estimators */\n",
       "  --sklearn-color-unfitted-level-0: #fff5e6;\n",
       "  --sklearn-color-unfitted-level-1: #f6e4d2;\n",
       "  --sklearn-color-unfitted-level-2: #ffe0b3;\n",
       "  --sklearn-color-unfitted-level-3: chocolate;\n",
       "  /* Definition of color scheme for fitted estimators */\n",
       "  --sklearn-color-fitted-level-0: #f0f8ff;\n",
       "  --sklearn-color-fitted-level-1: #d4ebff;\n",
       "  --sklearn-color-fitted-level-2: #b3dbfd;\n",
       "  --sklearn-color-fitted-level-3: cornflowerblue;\n",
       "\n",
       "  /* Specific color for light theme */\n",
       "  --sklearn-color-text-on-default-background: var(--sg-text-color, var(--theme-code-foreground, var(--jp-content-font-color1, black)));\n",
       "  --sklearn-color-background: var(--sg-background-color, var(--theme-background, var(--jp-layout-color0, white)));\n",
       "  --sklearn-color-border-box: var(--sg-text-color, var(--theme-code-foreground, var(--jp-content-font-color1, black)));\n",
       "  --sklearn-color-icon: #696969;\n",
       "\n",
       "  @media (prefers-color-scheme: dark) {\n",
       "    /* Redefinition of color scheme for dark theme */\n",
       "    --sklearn-color-text-on-default-background: var(--sg-text-color, var(--theme-code-foreground, var(--jp-content-font-color1, white)));\n",
       "    --sklearn-color-background: var(--sg-background-color, var(--theme-background, var(--jp-layout-color0, #111)));\n",
       "    --sklearn-color-border-box: var(--sg-text-color, var(--theme-code-foreground, var(--jp-content-font-color1, white)));\n",
       "    --sklearn-color-icon: #878787;\n",
       "  }\n",
       "}\n",
       "\n",
       "#sk-container-id-14 {\n",
       "  color: var(--sklearn-color-text);\n",
       "}\n",
       "\n",
       "#sk-container-id-14 pre {\n",
       "  padding: 0;\n",
       "}\n",
       "\n",
       "#sk-container-id-14 input.sk-hidden--visually {\n",
       "  border: 0;\n",
       "  clip: rect(1px 1px 1px 1px);\n",
       "  clip: rect(1px, 1px, 1px, 1px);\n",
       "  height: 1px;\n",
       "  margin: -1px;\n",
       "  overflow: hidden;\n",
       "  padding: 0;\n",
       "  position: absolute;\n",
       "  width: 1px;\n",
       "}\n",
       "\n",
       "#sk-container-id-14 div.sk-dashed-wrapped {\n",
       "  border: 1px dashed var(--sklearn-color-line);\n",
       "  margin: 0 0.4em 0.5em 0.4em;\n",
       "  box-sizing: border-box;\n",
       "  padding-bottom: 0.4em;\n",
       "  background-color: var(--sklearn-color-background);\n",
       "}\n",
       "\n",
       "#sk-container-id-14 div.sk-container {\n",
       "  /* jupyter's `normalize.less` sets `[hidden] { display: none; }`\n",
       "     but bootstrap.min.css set `[hidden] { display: none !important; }`\n",
       "     so we also need the `!important` here to be able to override the\n",
       "     default hidden behavior on the sphinx rendered scikit-learn.org.\n",
       "     See: https://github.com/scikit-learn/scikit-learn/issues/21755 */\n",
       "  display: inline-block !important;\n",
       "  position: relative;\n",
       "}\n",
       "\n",
       "#sk-container-id-14 div.sk-text-repr-fallback {\n",
       "  display: none;\n",
       "}\n",
       "\n",
       "div.sk-parallel-item,\n",
       "div.sk-serial,\n",
       "div.sk-item {\n",
       "  /* draw centered vertical line to link estimators */\n",
       "  background-image: linear-gradient(var(--sklearn-color-text-on-default-background), var(--sklearn-color-text-on-default-background));\n",
       "  background-size: 2px 100%;\n",
       "  background-repeat: no-repeat;\n",
       "  background-position: center center;\n",
       "}\n",
       "\n",
       "/* Parallel-specific style estimator block */\n",
       "\n",
       "#sk-container-id-14 div.sk-parallel-item::after {\n",
       "  content: \"\";\n",
       "  width: 100%;\n",
       "  border-bottom: 2px solid var(--sklearn-color-text-on-default-background);\n",
       "  flex-grow: 1;\n",
       "}\n",
       "\n",
       "#sk-container-id-14 div.sk-parallel {\n",
       "  display: flex;\n",
       "  align-items: stretch;\n",
       "  justify-content: center;\n",
       "  background-color: var(--sklearn-color-background);\n",
       "  position: relative;\n",
       "}\n",
       "\n",
       "#sk-container-id-14 div.sk-parallel-item {\n",
       "  display: flex;\n",
       "  flex-direction: column;\n",
       "}\n",
       "\n",
       "#sk-container-id-14 div.sk-parallel-item:first-child::after {\n",
       "  align-self: flex-end;\n",
       "  width: 50%;\n",
       "}\n",
       "\n",
       "#sk-container-id-14 div.sk-parallel-item:last-child::after {\n",
       "  align-self: flex-start;\n",
       "  width: 50%;\n",
       "}\n",
       "\n",
       "#sk-container-id-14 div.sk-parallel-item:only-child::after {\n",
       "  width: 0;\n",
       "}\n",
       "\n",
       "/* Serial-specific style estimator block */\n",
       "\n",
       "#sk-container-id-14 div.sk-serial {\n",
       "  display: flex;\n",
       "  flex-direction: column;\n",
       "  align-items: center;\n",
       "  background-color: var(--sklearn-color-background);\n",
       "  padding-right: 1em;\n",
       "  padding-left: 1em;\n",
       "}\n",
       "\n",
       "\n",
       "/* Toggleable style: style used for estimator/Pipeline/ColumnTransformer box that is\n",
       "clickable and can be expanded/collapsed.\n",
       "- Pipeline and ColumnTransformer use this feature and define the default style\n",
       "- Estimators will overwrite some part of the style using the `sk-estimator` class\n",
       "*/\n",
       "\n",
       "/* Pipeline and ColumnTransformer style (default) */\n",
       "\n",
       "#sk-container-id-14 div.sk-toggleable {\n",
       "  /* Default theme specific background. It is overwritten whether we have a\n",
       "  specific estimator or a Pipeline/ColumnTransformer */\n",
       "  background-color: var(--sklearn-color-background);\n",
       "}\n",
       "\n",
       "/* Toggleable label */\n",
       "#sk-container-id-14 label.sk-toggleable__label {\n",
       "  cursor: pointer;\n",
       "  display: block;\n",
       "  width: 100%;\n",
       "  margin-bottom: 0;\n",
       "  padding: 0.5em;\n",
       "  box-sizing: border-box;\n",
       "  text-align: center;\n",
       "}\n",
       "\n",
       "#sk-container-id-14 label.sk-toggleable__label-arrow:before {\n",
       "  /* Arrow on the left of the label */\n",
       "  content: \"▸\";\n",
       "  float: left;\n",
       "  margin-right: 0.25em;\n",
       "  color: var(--sklearn-color-icon);\n",
       "}\n",
       "\n",
       "#sk-container-id-14 label.sk-toggleable__label-arrow:hover:before {\n",
       "  color: var(--sklearn-color-text);\n",
       "}\n",
       "\n",
       "/* Toggleable content - dropdown */\n",
       "\n",
       "#sk-container-id-14 div.sk-toggleable__content {\n",
       "  max-height: 0;\n",
       "  max-width: 0;\n",
       "  overflow: hidden;\n",
       "  text-align: left;\n",
       "  /* unfitted */\n",
       "  background-color: var(--sklearn-color-unfitted-level-0);\n",
       "}\n",
       "\n",
       "#sk-container-id-14 div.sk-toggleable__content.fitted {\n",
       "  /* fitted */\n",
       "  background-color: var(--sklearn-color-fitted-level-0);\n",
       "}\n",
       "\n",
       "#sk-container-id-14 div.sk-toggleable__content pre {\n",
       "  margin: 0.2em;\n",
       "  border-radius: 0.25em;\n",
       "  color: var(--sklearn-color-text);\n",
       "  /* unfitted */\n",
       "  background-color: var(--sklearn-color-unfitted-level-0);\n",
       "}\n",
       "\n",
       "#sk-container-id-14 div.sk-toggleable__content.fitted pre {\n",
       "  /* unfitted */\n",
       "  background-color: var(--sklearn-color-fitted-level-0);\n",
       "}\n",
       "\n",
       "#sk-container-id-14 input.sk-toggleable__control:checked~div.sk-toggleable__content {\n",
       "  /* Expand drop-down */\n",
       "  max-height: 200px;\n",
       "  max-width: 100%;\n",
       "  overflow: auto;\n",
       "}\n",
       "\n",
       "#sk-container-id-14 input.sk-toggleable__control:checked~label.sk-toggleable__label-arrow:before {\n",
       "  content: \"▾\";\n",
       "}\n",
       "\n",
       "/* Pipeline/ColumnTransformer-specific style */\n",
       "\n",
       "#sk-container-id-14 div.sk-label input.sk-toggleable__control:checked~label.sk-toggleable__label {\n",
       "  color: var(--sklearn-color-text);\n",
       "  background-color: var(--sklearn-color-unfitted-level-2);\n",
       "}\n",
       "\n",
       "#sk-container-id-14 div.sk-label.fitted input.sk-toggleable__control:checked~label.sk-toggleable__label {\n",
       "  background-color: var(--sklearn-color-fitted-level-2);\n",
       "}\n",
       "\n",
       "/* Estimator-specific style */\n",
       "\n",
       "/* Colorize estimator box */\n",
       "#sk-container-id-14 div.sk-estimator input.sk-toggleable__control:checked~label.sk-toggleable__label {\n",
       "  /* unfitted */\n",
       "  background-color: var(--sklearn-color-unfitted-level-2);\n",
       "}\n",
       "\n",
       "#sk-container-id-14 div.sk-estimator.fitted input.sk-toggleable__control:checked~label.sk-toggleable__label {\n",
       "  /* fitted */\n",
       "  background-color: var(--sklearn-color-fitted-level-2);\n",
       "}\n",
       "\n",
       "#sk-container-id-14 div.sk-label label.sk-toggleable__label,\n",
       "#sk-container-id-14 div.sk-label label {\n",
       "  /* The background is the default theme color */\n",
       "  color: var(--sklearn-color-text-on-default-background);\n",
       "}\n",
       "\n",
       "/* On hover, darken the color of the background */\n",
       "#sk-container-id-14 div.sk-label:hover label.sk-toggleable__label {\n",
       "  color: var(--sklearn-color-text);\n",
       "  background-color: var(--sklearn-color-unfitted-level-2);\n",
       "}\n",
       "\n",
       "/* Label box, darken color on hover, fitted */\n",
       "#sk-container-id-14 div.sk-label.fitted:hover label.sk-toggleable__label.fitted {\n",
       "  color: var(--sklearn-color-text);\n",
       "  background-color: var(--sklearn-color-fitted-level-2);\n",
       "}\n",
       "\n",
       "/* Estimator label */\n",
       "\n",
       "#sk-container-id-14 div.sk-label label {\n",
       "  font-family: monospace;\n",
       "  font-weight: bold;\n",
       "  display: inline-block;\n",
       "  line-height: 1.2em;\n",
       "}\n",
       "\n",
       "#sk-container-id-14 div.sk-label-container {\n",
       "  text-align: center;\n",
       "}\n",
       "\n",
       "/* Estimator-specific */\n",
       "#sk-container-id-14 div.sk-estimator {\n",
       "  font-family: monospace;\n",
       "  border: 1px dotted var(--sklearn-color-border-box);\n",
       "  border-radius: 0.25em;\n",
       "  box-sizing: border-box;\n",
       "  margin-bottom: 0.5em;\n",
       "  /* unfitted */\n",
       "  background-color: var(--sklearn-color-unfitted-level-0);\n",
       "}\n",
       "\n",
       "#sk-container-id-14 div.sk-estimator.fitted {\n",
       "  /* fitted */\n",
       "  background-color: var(--sklearn-color-fitted-level-0);\n",
       "}\n",
       "\n",
       "/* on hover */\n",
       "#sk-container-id-14 div.sk-estimator:hover {\n",
       "  /* unfitted */\n",
       "  background-color: var(--sklearn-color-unfitted-level-2);\n",
       "}\n",
       "\n",
       "#sk-container-id-14 div.sk-estimator.fitted:hover {\n",
       "  /* fitted */\n",
       "  background-color: var(--sklearn-color-fitted-level-2);\n",
       "}\n",
       "\n",
       "/* Specification for estimator info (e.g. \"i\" and \"?\") */\n",
       "\n",
       "/* Common style for \"i\" and \"?\" */\n",
       "\n",
       ".sk-estimator-doc-link,\n",
       "a:link.sk-estimator-doc-link,\n",
       "a:visited.sk-estimator-doc-link {\n",
       "  float: right;\n",
       "  font-size: smaller;\n",
       "  line-height: 1em;\n",
       "  font-family: monospace;\n",
       "  background-color: var(--sklearn-color-background);\n",
       "  border-radius: 1em;\n",
       "  height: 1em;\n",
       "  width: 1em;\n",
       "  text-decoration: none !important;\n",
       "  margin-left: 1ex;\n",
       "  /* unfitted */\n",
       "  border: var(--sklearn-color-unfitted-level-1) 1pt solid;\n",
       "  color: var(--sklearn-color-unfitted-level-1);\n",
       "}\n",
       "\n",
       ".sk-estimator-doc-link.fitted,\n",
       "a:link.sk-estimator-doc-link.fitted,\n",
       "a:visited.sk-estimator-doc-link.fitted {\n",
       "  /* fitted */\n",
       "  border: var(--sklearn-color-fitted-level-1) 1pt solid;\n",
       "  color: var(--sklearn-color-fitted-level-1);\n",
       "}\n",
       "\n",
       "/* On hover */\n",
       "div.sk-estimator:hover .sk-estimator-doc-link:hover,\n",
       ".sk-estimator-doc-link:hover,\n",
       "div.sk-label-container:hover .sk-estimator-doc-link:hover,\n",
       ".sk-estimator-doc-link:hover {\n",
       "  /* unfitted */\n",
       "  background-color: var(--sklearn-color-unfitted-level-3);\n",
       "  color: var(--sklearn-color-background);\n",
       "  text-decoration: none;\n",
       "}\n",
       "\n",
       "div.sk-estimator.fitted:hover .sk-estimator-doc-link.fitted:hover,\n",
       ".sk-estimator-doc-link.fitted:hover,\n",
       "div.sk-label-container:hover .sk-estimator-doc-link.fitted:hover,\n",
       ".sk-estimator-doc-link.fitted:hover {\n",
       "  /* fitted */\n",
       "  background-color: var(--sklearn-color-fitted-level-3);\n",
       "  color: var(--sklearn-color-background);\n",
       "  text-decoration: none;\n",
       "}\n",
       "\n",
       "/* Span, style for the box shown on hovering the info icon */\n",
       ".sk-estimator-doc-link span {\n",
       "  display: none;\n",
       "  z-index: 9999;\n",
       "  position: relative;\n",
       "  font-weight: normal;\n",
       "  right: .2ex;\n",
       "  padding: .5ex;\n",
       "  margin: .5ex;\n",
       "  width: min-content;\n",
       "  min-width: 20ex;\n",
       "  max-width: 50ex;\n",
       "  color: var(--sklearn-color-text);\n",
       "  box-shadow: 2pt 2pt 4pt #999;\n",
       "  /* unfitted */\n",
       "  background: var(--sklearn-color-unfitted-level-0);\n",
       "  border: .5pt solid var(--sklearn-color-unfitted-level-3);\n",
       "}\n",
       "\n",
       ".sk-estimator-doc-link.fitted span {\n",
       "  /* fitted */\n",
       "  background: var(--sklearn-color-fitted-level-0);\n",
       "  border: var(--sklearn-color-fitted-level-3);\n",
       "}\n",
       "\n",
       ".sk-estimator-doc-link:hover span {\n",
       "  display: block;\n",
       "}\n",
       "\n",
       "/* \"?\"-specific style due to the `<a>` HTML tag */\n",
       "\n",
       "#sk-container-id-14 a.estimator_doc_link {\n",
       "  float: right;\n",
       "  font-size: 1rem;\n",
       "  line-height: 1em;\n",
       "  font-family: monospace;\n",
       "  background-color: var(--sklearn-color-background);\n",
       "  border-radius: 1rem;\n",
       "  height: 1rem;\n",
       "  width: 1rem;\n",
       "  text-decoration: none;\n",
       "  /* unfitted */\n",
       "  color: var(--sklearn-color-unfitted-level-1);\n",
       "  border: var(--sklearn-color-unfitted-level-1) 1pt solid;\n",
       "}\n",
       "\n",
       "#sk-container-id-14 a.estimator_doc_link.fitted {\n",
       "  /* fitted */\n",
       "  border: var(--sklearn-color-fitted-level-1) 1pt solid;\n",
       "  color: var(--sklearn-color-fitted-level-1);\n",
       "}\n",
       "\n",
       "/* On hover */\n",
       "#sk-container-id-14 a.estimator_doc_link:hover {\n",
       "  /* unfitted */\n",
       "  background-color: var(--sklearn-color-unfitted-level-3);\n",
       "  color: var(--sklearn-color-background);\n",
       "  text-decoration: none;\n",
       "}\n",
       "\n",
       "#sk-container-id-14 a.estimator_doc_link.fitted:hover {\n",
       "  /* fitted */\n",
       "  background-color: var(--sklearn-color-fitted-level-3);\n",
       "}\n",
       "</style><div id=\"sk-container-id-14\" class=\"sk-top-container\"><div class=\"sk-text-repr-fallback\"><pre>GaussianNB()</pre><b>In a Jupyter environment, please rerun this cell to show the HTML representation or trust the notebook. <br />On GitHub, the HTML representation is unable to render, please try loading this page with nbviewer.org.</b></div><div class=\"sk-container\" hidden><div class=\"sk-item\"><div class=\"sk-estimator fitted sk-toggleable\"><input class=\"sk-toggleable__control sk-hidden--visually\" id=\"sk-estimator-id-14\" type=\"checkbox\" checked><label for=\"sk-estimator-id-14\" class=\"sk-toggleable__label fitted sk-toggleable__label-arrow fitted\">&nbsp;&nbsp;GaussianNB<a class=\"sk-estimator-doc-link fitted\" rel=\"noreferrer\" target=\"_blank\" href=\"https://scikit-learn.org/1.5/modules/generated/sklearn.naive_bayes.GaussianNB.html\">?<span>Documentation for GaussianNB</span></a><span class=\"sk-estimator-doc-link fitted\">i<span>Fitted</span></span></label><div class=\"sk-toggleable__content fitted\"><pre>GaussianNB()</pre></div> </div></div></div></div>"
      ],
      "text/plain": [
       "GaussianNB()"
      ]
     },
     "execution_count": 306,
     "metadata": {},
     "output_type": "execute_result"
    }
   ],
   "source": [
    "# Import class GaussianNB dari library scikit-learn untuk melakukan naive bayes\n",
    "# GaussianNB adalah sebuah class yang digunakan untuk melakukan naive bayes dengan asumsi distribusi Gaussian (normal) \n",
    "# Naive bayes adalah sebuah algoritma machine learning yang digunakan untuk melakukan klasifikasi data dengan cara menghitung probabilitas dari suatu data\n",
    "from sklearn.naive_bayes import GaussianNB \n",
    "\n",
    "classifier = GaussianNB()\n",
    "classifier.fit(X_train, y_train)"
   ]
  },
  {
   "cell_type": "markdown",
   "metadata": {},
   "source": [
    "**PREDIKSI DATA**"
   ]
  },
  {
   "cell_type": "code",
   "execution_count": 307,
   "metadata": {},
   "outputs": [],
   "source": [
    "y_pred = classifier.predict(X_test)"
   ]
  },
  {
   "cell_type": "markdown",
   "metadata": {},
   "source": [
    "**EVALUASI**"
   ]
  },
  {
   "cell_type": "markdown",
   "metadata": {},
   "source": [
    "#### *Confusion Matrix*"
   ]
  },
  {
   "cell_type": "code",
   "execution_count": 308,
   "metadata": {},
   "outputs": [
    {
     "name": "stdout",
     "output_type": "stream",
     "text": [
      "[[ 8  1]\n",
      " [ 0 11]]\n"
     ]
    }
   ],
   "source": [
    "from sklearn.metrics import confusion_matrix\n",
    "cm = confusion_matrix(y_test, y_pred)\n",
    "print(cm)"
   ]
  },
  {
   "cell_type": "markdown",
   "metadata": {},
   "source": [
    "#### *Akurasi* mendapatkan **95%**"
   ]
  },
  {
   "cell_type": "code",
   "execution_count": 309,
   "metadata": {},
   "outputs": [
    {
     "name": "stdout",
     "output_type": "stream",
     "text": [
      "0.95\n"
     ]
    }
   ],
   "source": [
    "from sklearn.metrics import accuracy_score\n",
    "akurasi = accuracy_score(y_test, y_pred)\n",
    "print(akurasi)"
   ]
  },
  {
   "cell_type": "markdown",
   "metadata": {},
   "source": [
    "#### *Visualisasi Data Train*"
   ]
  },
  {
   "cell_type": "code",
   "execution_count": 310,
   "metadata": {},
   "outputs": [
    {
     "name": "stderr",
     "output_type": "stream",
     "text": [
      "C:\\Users\\ASUS\\AppData\\Local\\Temp\\ipykernel_44992\\542152883.py:10: UserWarning: *c* argument looks like a single numeric RGB or RGBA sequence, which should be avoided as value-mapping will have precedence in case its length matches with *x* & *y*.  Please use the *color* keyword-argument or provide a 2D array with a single row if you intend to specify the same RGB or RGBA value for all points.\n",
      "  plt.scatter(X_set[y_set == j, 0], X_set[y_set == j, 1],\n"
     ]
    },
    {
     "data": {
      "image/png": "[encoded data removed]",
      "text/plain": [
       "<Figure size 640x480 with 1 Axes>"
      ]
     },
     "metadata": {},
     "output_type": "display_data"
    }
   ],
   "source": [
    "from matplotlib.colors import ListedColormap\n",
    "X_set, y_set = X_train, y_train\n",
    "X1, X2 = np.meshgrid(np.arange(start = X_set[:, 0].min() - 1, stop = X_set[:, 0].max() + 1, step = 0.01),\n",
    "                     np.arange(start = X_set[:, 1].min() - 1, stop = X_set[:, 1].max() + 1, step = 0.01))\n",
    "plt.contourf(X1, X2, classifier.predict(np.array([X1.ravel(), X2.ravel()]).T).reshape(X1.shape),\n",
    "             alpha = 0.75, cmap = ListedColormap(('red', 'green')))\n",
    "plt.xlim(X1.min(), X1.max())\n",
    "plt.ylim(X2.min(), X2.max())\n",
    "for i, j in enumerate(np.unique(y_set)):\n",
    "    plt.scatter(X_set[y_set == j, 0], X_set[y_set == j, 1],\n",
    "                c = ListedColormap(('red', 'green'))(i), label = j)\n",
    "plt.title('Naive Bayes (Training set)')\n",
    "plt.xlabel('Kadar kalsium dalam urine')\n",
    "plt.ylabel('Ukuran Konsentrasi urine')\n",
    "plt.legend()\n",
    "plt.show()"
   ]
  },
  {
   "cell_type": "markdown",
   "metadata": {},
   "source": [
    "#### *Visualisasi Data Test*"
   ]
  },
  {
   "cell_type": "code",
   "execution_count": 311,
   "metadata": {},
   "outputs": [
    {
     "name": "stderr",
     "output_type": "stream",
     "text": [
      "C:\\Users\\ASUS\\AppData\\Local\\Temp\\ipykernel_44992\\3785345115.py:9: UserWarning: *c* argument looks like a single numeric RGB or RGBA sequence, which should be avoided as value-mapping will have precedence in case its length matches with *x* & *y*.  Please use the *color* keyword-argument or provide a 2D array with a single row if you intend to specify the same RGB or RGBA value for all points.\n",
      "  plt.scatter(X_set[y_set == j, 0], X_set[y_set == j, 1],\n"
     ]
    },
    {
     "data": {
      "image/png": "[encoded data removed]",
      "text/plain": [
       "<Figure size 640x480 with 1 Axes>"
      ]
     },
     "metadata": {},
     "output_type": "display_data"
    }
   ],
   "source": [
    "X_set, y_set = X_test, y_test\n",
    "X1, X2 = np.meshgrid(np.arange(start = X_set[:, 0].min() - 1, stop = X_set[:, 0].max() + 1, step = 0.01),\n",
    "                     np.arange(start = X_set[:, 1].min() - 1, stop = X_set[:, 1].max() + 1, step = 0.01))\n",
    "plt.contourf(X1, X2, classifier.predict(np.array([X1.ravel(), X2.ravel()]).T).reshape(X1.shape),\n",
    "             alpha = 0.75, cmap = ListedColormap(('red', 'green')))\n",
    "plt.xlim(X1.min(), X1.max())\n",
    "plt.ylim(X2.min(), X2.max())\n",
    "for i, j in enumerate(np.unique(y_set)):\n",
    "    plt.scatter(X_set[y_set == j, 0], X_set[y_set == j, 1],\n",
    "                c = ListedColormap(('red', 'green'))(i), label = j)\n",
    "plt.title('Naive Bayes (Test set)')\n",
    "plt.xlabel('Kadar kalsium dalam urine')\n",
    "plt.ylabel('Ukuran konsentrasi urin')\n",
    "plt.legend()\n",
    "plt.show()"
   ]
  }
 ],
 "metadata": {
  "kernelspec": {
   "display_name": "myenv",
   "language": "python",
   "name": "python3"
  },
  "language_info": {
   "codemirror_mode": {
    "name": "ipython",
    "version": 3
   },
   "file_extension": ".py",
   "mimetype": "text/x-python",
   "name": "python",
   "nbconvert_exporter": "python",
   "pygments_lexer": "ipython3",
   "version": "3.12.7"
  }
 },
 "nbformat": 4,
 "nbformat_minor": 2
}
